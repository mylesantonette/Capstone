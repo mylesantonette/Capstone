{
 "cells": [
  {
   "cell_type": "code",
   "execution_count": 1,
   "metadata": {},
   "outputs": [],
   "source": [
    "import cv2\n",
    "import numpy as np"
   ]
  },
  {
   "cell_type": "code",
   "execution_count": 2,
   "metadata": {},
   "outputs": [],
   "source": [
    "def draw_circle(event,x,y,flags,param):\n",
    "    global count\n",
    "    if event == cv2.EVENT_LBUTTONUP:\n",
    "        circles2.append((x, y))\n",
    "        positions.append([x,y])\n",
    "        if(count!=3):\n",
    "            positions2.append([x,y])\n",
    "        elif(count==3):\n",
    "            positions2.insert(2,[x,y])\n",
    "        count+=1\n",
    "        \n",
    "def mouse_drawing_one(event, x, y, flags, params):\n",
    "    if event == cv2.EVENT_LBUTTONDOWN:\n",
    "        circles1.append((x, y))\n",
    "        pos1.append([x, y])\n",
    "        print(circles1)\n",
    "        print(pos1)\n",
    "\n",
    "def mouse_drawing_two(event, x, y, flags, params):\n",
    "    if event == cv2.EVENT_LBUTTONDOWN:\n",
    "        circles_roi.append((x, y))\n",
    "        pos_roi.append([x, y])\n",
    "        print(circles_roi)\n",
    "        print(pos_roi)"
   ]
  },
  {
   "cell_type": "code",
   "execution_count": 3,
   "metadata": {},
   "outputs": [],
   "source": [
    "guide = cv2.imread('guide.png')\n",
    "cap = cv2.VideoCapture('guide.mp4')"
   ]
  },
  {
   "cell_type": "code",
   "execution_count": 4,
   "metadata": {},
   "outputs": [
    {
     "name": "stdout",
     "output_type": "stream",
     "text": [
      "[(476, 368)]\n",
      "[[476, 368]]\n",
      "[(476, 368), (806, 364)]\n",
      "[[476, 368], [806, 364]]\n",
      "[(476, 368), (806, 364), (278, 512)]\n",
      "[[476, 368], [806, 364], [278, 512]]\n",
      "[(476, 368), (806, 364), (278, 512), (979, 525)]\n",
      "[[476, 368], [806, 364], [278, 512], [979, 525]]\n"
     ]
    }
   ],
   "source": [
    "positions=[] \n",
    "positions2=[]\n",
    "count=0\n",
    "\n",
    "pos1 = []\n",
    "circles1 = []\n",
    "circles2 = []\n",
    "\n",
    "cv2.namedWindow('image')\n",
    "cv2.setMouseCallback('image', draw_circle)\n",
    "\n",
    "cv2.namedWindow(\"Frame 1\")\n",
    "cv2.setMouseCallback(\"Frame 1\", mouse_drawing_one)\n",
    "\n",
    "while(True):\n",
    "    cv2.imshow('image',guide)\n",
    "\n",
    "    ret, frame = cap.read()\n",
    "    h, w = frame.shape[:2]\n",
    "\n",
    "    for center_position in circles1:\n",
    "        cv2.circle(frame, center_position, 10, (255, 0, 0), -1)\n",
    "\n",
    "    for center_position in circles2:\n",
    "        cv2.circle(guide, center_position, 10, (255, 0, 0), -1)\n",
    "\n",
    "    cv2.imshow(\"Frame 1\", frame)\n",
    "\n",
    "    k = cv2.waitKey(20) & 0xFF\n",
    "    if k == 27:\n",
    "        break\n",
    "    elif k == ord(\"d\"):\n",
    "        positions=[] \n",
    "        positions2=[]\n",
    "        count=0\n",
    "        pos1 = []\n",
    "        circles1 = []\n",
    "        circles2 = []\n",
    "cv2.destroyAllWindows()"
   ]
  },
  {
   "cell_type": "code",
   "execution_count": 5,
   "metadata": {},
   "outputs": [
    {
     "name": "stdout",
     "output_type": "stream",
     "text": [
      "[(196, 89)]\n",
      "[[196, 89]]\n",
      "[(196, 89), (1127, 84)]\n",
      "[[196, 89], [1127, 84]]\n",
      "[(196, 89), (1127, 84), (157, 625)]\n",
      "[[196, 89], [1127, 84], [157, 625]]\n",
      "[(196, 89), (1127, 84), (157, 625), (1160, 646)]\n",
      "[[196, 89], [1127, 84], [157, 625], [1160, 646]]\n"
     ]
    }
   ],
   "source": [
    "circles_roi = []\n",
    "pos_roi = []\n",
    "\n",
    "cv2.namedWindow(\"ROI Select\")\n",
    "cv2.setMouseCallback(\"ROI Select\", mouse_drawing_two)\n",
    "\n",
    "while(True):\n",
    "\n",
    "    ret, dp = cap.read()\n",
    "\n",
    "    h1,w1 = dp.shape[:2]\n",
    "\n",
    "    height, width = guide.shape[:2]\n",
    "\n",
    "    pts1=np.float32([pos1[0], pos1[1], pos1[2], pos1[3]])\n",
    "    pts2=np.float32(positions)\n",
    "\n",
    "\n",
    "    h, mask = cv2.findHomography(pts1, pts2, cv2.RANSAC,5.0)\n",
    "\n",
    "    height, width, channels = guide.shape\n",
    "    im1Reg = cv2.warpPerspective(dp, h, (width, height))\n",
    "\n",
    "    mask2 = np.zeros(guide.shape, dtype=np.uint8)\n",
    "\n",
    "    # roi_corners2 = np.int32(positions2)\n",
    "    # channel_count2 = building.shape[2]  \n",
    "    # ignore_mask_color2 = (255,)*channel_count2\n",
    "    # cv2.fillConvexPoly(mask2, roi_corners2, ignore_mask_color2)\n",
    "    # mask2 = cv2.bitwise_not(mask2)\n",
    "    # masked_image2 = cv2.bitwise_and(building, mask2)\n",
    "    # final = cv2.bitwise_or(masked_image2, im1Reg)\n",
    "\n",
    "    final = cv2.add(im1Reg, guide)\n",
    "\n",
    "    # bldg_copy = building.copy()\n",
    "    # bldg_copy[np.where(im1Reg)] = 0\n",
    "    # subbed = cv2.subtract(bldg_copy, im1Reg)\n",
    "    # final = cv2.add(im1Reg, subbed)\n",
    "    \n",
    "    for center_position in circles_roi:\n",
    "        cv2.circle(final, center_position, 10, (255, 0, 0), -1)\n",
    "    \n",
    "    # cv2.imshow('mask',mask2)\n",
    "    # cv2.imshow('subbed',subbed)\n",
    "    # cv2.imshow('warped',im1Reg)\n",
    "\n",
    "    if len(pos_roi) < 4:\n",
    "        cv2.imshow('ROI Select',final)\n",
    "    elif len(pos_roi) == 4:\n",
    "        pts1 = np.float32([pos_roi[0], pos_roi[1], pos_roi[2], pos_roi[3]])\n",
    "        pts2 = np.float32([[0, 0], [1280, 0], [0, 720], [1280, 720]])\n",
    "        matrix = cv2.getPerspectiveTransform(pts1, pts2)\n",
    "        result = cv2.warpPerspective(final, matrix, (1280, 720))\n",
    "        cv2.destroyWindow('ROI Select')\n",
    "        cv2.imshow(\"ROI\", result)\n",
    "\n",
    "    k = cv2.waitKey(20) & 0xFF\n",
    "    if k == 27:\n",
    "        break\n",
    "    elif k == ord(\"d\"):\n",
    "        circles_roi = []\n",
    "        pos_roi = []\n",
    "\n",
    "cv2.destroyAllWindows()"
   ]
  }
 ],
 "metadata": {
  "interpreter": {
   "hash": "7867cf5a784626db249d0ed6c313a0cbba893f0423e0646eb4a9d71036a7bb38"
  },
  "kernelspec": {
   "display_name": "Python 3.10.2 ('vehicle_env')",
   "language": "python",
   "name": "python3"
  },
  "language_info": {
   "codemirror_mode": {
    "name": "ipython",
    "version": 3
   },
   "file_extension": ".py",
   "mimetype": "text/x-python",
   "name": "python",
   "nbconvert_exporter": "python",
   "pygments_lexer": "ipython3",
   "version": "3.10.2"
  },
  "orig_nbformat": 4
 },
 "nbformat": 4,
 "nbformat_minor": 2
}
